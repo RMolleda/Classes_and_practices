{
 "metadata": {
  "language_info": {
   "codemirror_mode": {
    "name": "ipython",
    "version": 3
   },
   "file_extension": ".py",
   "mimetype": "text/x-python",
   "name": "python",
   "nbconvert_exporter": "python",
   "pygments_lexer": "ipython3",
   "version": "3.9.0-final"
  },
  "orig_nbformat": 2,
  "kernelspec": {
   "name": "python3",
   "display_name": "Python 3.9.0 64-bit",
   "metadata": {
    "interpreter": {
     "hash": "c49414725a10925ce64f1a7c91399f6a4823416942062340df486dba231dfa6d"
    }
   }
  }
 },
 "nbformat": 4,
 "nbformat_minor": 2,
 "cells": [
  {
   "cell_type": "code",
   "execution_count": 39,
   "metadata": {},
   "outputs": [
    {
     "output_type": "stream",
     "name": "stdout",
     "text": [
      "Letra equivocada\n[]\n['_', '_', '_', '_', '_', '_', '_']\n"
     ]
    }
   ],
   "source": [
    "# El ahorcado:\n",
    "num_errores = 0\n",
    "palabra_a_adivinar = \"Gatillo\"\n",
    "letra_insertada = input(\"Introduce una letra\")\n",
    "tablero = list(\"_\" * len(palabra_a_adivinar))\n",
    "lista_aciertos = []\n",
    "\n",
    "\n",
    "\n",
    "if letra_insertada in palabra_a_adivinar:\n",
    "    lista_aciertos.append(letra_insertada)\n",
    "    \n",
    "else:\n",
    "    num_errores += 1\n",
    "    print(\"Letra equivocada\")\n",
    "    if num_errores > 6:\n",
    "        print(\"Game Over\")\n",
    "if letra_insertada in lista_aciertos:        \n",
    "    for pos, val in enumerate(palabra_a_adivinar):\n",
    "        for x in lista_aciertos:\n",
    "            if x == letra_insertada:\n",
    "                tablero[pos] = letra_insertada\n",
    "print(lista_aciertos)\n",
    "print(tablero)"
   ]
  },
  {
   "cell_type": "code",
   "execution_count": 41,
   "metadata": {},
   "outputs": [
    {
     "output_type": "stream",
     "name": "stdout",
     "text": [
      "_ _ _ _ _ _ _ \n"
     ]
    }
   ],
   "source": [
    "def tablero_a_mostrar(tablero):\n",
    "    tablero_show = \"\"\n",
    "    for l in tablero:\n",
    "        tablero_show += l + \" \"\n",
    "\n",
    "    return tablero_show\n",
    "\n",
    "print(tablero_a_mostrar(tablero))\n",
    "\n",
    "        "
   ]
  },
  {
   "cell_type": "code",
   "execution_count": null,
   "metadata": {},
   "outputs": [],
   "source": []
  }
 ]
}