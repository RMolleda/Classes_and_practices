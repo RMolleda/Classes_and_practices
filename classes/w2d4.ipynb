{
 "metadata": {
  "language_info": {
   "codemirror_mode": {
    "name": "ipython",
    "version": 3
   },
   "file_extension": ".py",
   "mimetype": "text/x-python",
   "name": "python",
   "nbconvert_exporter": "python",
   "pygments_lexer": "ipython3",
   "version": "3.9.0-final"
  },
  "orig_nbformat": 2,
  "kernelspec": {
   "name": "python3",
   "display_name": "Python 3.9.0 64-bit",
   "metadata": {
    "interpreter": {
     "hash": "c49414725a10925ce64f1a7c91399f6a4823416942062340df486dba231dfa6d"
    }
   }
  }
 },
 "nbformat": 4,
 "nbformat_minor": 2,
 "cells": [
  {
   "source": [
    "# Try except\n"
   ],
   "cell_type": "markdown",
   "metadata": {}
  },
  {
   "cell_type": "code",
   "execution_count": 1,
   "metadata": {},
   "outputs": [
    {
     "output_type": "execute_result",
     "data": {
      "text/plain": [
       "9"
      ]
     },
     "metadata": {},
     "execution_count": 1
    }
   ],
   "source": [
    "def suma(a, b):\n",
    "    resultado = a + b\n",
    "    return resultado\n",
    "\n",
    "suma(a=2, b=7)"
   ]
  },
  {
   "cell_type": "code",
   "execution_count": 2,
   "metadata": {},
   "outputs": [
    {
     "output_type": "execute_result",
     "data": {
      "text/plain": [
       "9"
      ]
     },
     "metadata": {},
     "execution_count": 2
    }
   ],
   "source": [
    "def suma(a, b):\n",
    "    resultado = a + b\n",
    "    return resultado\n",
    "\n",
    "\n",
    "s = suma(a=2, b=7)\n",
    "s"
   ]
  },
  {
   "cell_type": "code",
   "execution_count": 6,
   "metadata": {},
   "outputs": [
    {
     "output_type": "stream",
     "name": "stdout",
     "text": [
      "Ha ocurrido un error al sumar\n"
     ]
    },
    {
     "output_type": "execute_result",
     "data": {
      "text/plain": [
       "4"
      ]
     },
     "metadata": {},
     "execution_count": 6
    }
   ],
   "source": [
    "def suma(a, b):\n",
    "    \n",
    "    try:\n",
    "        resultado = a + b\n",
    "        \n",
    "    except:\n",
    "        print(\"Ha ocurrido un error al sumar\")\n",
    "        a = int(a)\n",
    "        b = int(a)\n",
    "        resultado = a + b\n",
    "    return resultado\n",
    "\n",
    "\n",
    "s = suma(a=2, b=\"4\")\n",
    "s"
   ]
  },
  {
   "cell_type": "code",
   "execution_count": 12,
   "metadata": {},
   "outputs": [
    {
     "output_type": "stream",
     "name": "stdout",
     "text": [
      "Ha ocurrido un error al sumar\n"
     ]
    }
   ],
   "source": [
    "def suma(a, b):    \n",
    "    try:\n",
    "        resultado = a + b \n",
    "        return resultado     #en este caso el return no se ejecuta porque la parte superior no puede hacerla.  \n",
    "    except:\n",
    "        print(\"Ha ocurrido un error al sumar\")\n",
    "    #el return es None pero hace print del except al funcionar como un if else\n",
    "\n",
    "\n",
    "s = suma(a=2, b=\"4\")\n",
    "s"
   ]
  },
  {
   "cell_type": "code",
   "execution_count": 14,
   "metadata": {},
   "outputs": [
    {
     "output_type": "stream",
     "name": "stdout",
     "text": [
      "unsupported operand type(s) for +: 'int' and 'str'\n"
     ]
    }
   ],
   "source": [
    "a = 2\n",
    "b = \"g\"\n",
    "try:\n",
    "    resultado = a + b\n",
    "except Exception as error:\n",
    "    print(error)"
   ]
  },
  {
   "cell_type": "code",
   "execution_count": 17,
   "metadata": {},
   "outputs": [
    {
     "output_type": "error",
     "ename": "SyntaxError",
     "evalue": "invalid syntax (<ipython-input-17-bd598f205870>, line 3)",
     "traceback": [
      "\u001b[1;36m  File \u001b[1;32m\"<ipython-input-17-bd598f205870>\"\u001b[1;36m, line \u001b[1;32m3\u001b[0m\n\u001b[1;33m    if:\u001b[0m\n\u001b[1;37m      ^\u001b[0m\n\u001b[1;31mSyntaxError\u001b[0m\u001b[1;31m:\u001b[0m invalid syntax\n"
     ]
    }
   ],
   "source": []
  },
  {
   "source": [
    "# Assert"
   ],
   "cell_type": "markdown",
   "metadata": {}
  },
  {
   "cell_type": "code",
   "execution_count": 31,
   "metadata": {},
   "outputs": [
    {
     "output_type": "execute_result",
     "data": {
      "text/plain": [
       "1859.25"
      ]
     },
     "metadata": {},
     "execution_count": 31
    }
   ],
   "source": [
    "def mostrar_dinero_banco(input1):\n",
    "    try:        \n",
    "        assert (input1==\"12345\"), \"Contraseña incorrecta\"\n",
    "        return 1859.25\n",
    "    except Exception as critical:\n",
    "        print(critical)\n",
    "\n",
    "\n",
    "mostrar_dinero_banco(input1 = input(\"introduzca pw\"))\n",
    "\n",
    "\n"
   ]
  },
  {
   "cell_type": "code",
   "execution_count": null,
   "metadata": {},
   "outputs": [],
   "source": []
  }
 ]
}