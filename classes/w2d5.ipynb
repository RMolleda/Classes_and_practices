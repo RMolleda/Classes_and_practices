{
 "metadata": {
  "language_info": {
   "codemirror_mode": {
    "name": "ipython",
    "version": 3
   },
   "file_extension": ".py",
   "mimetype": "text/x-python",
   "name": "python",
   "nbconvert_exporter": "python",
   "pygments_lexer": "ipython3",
   "version": "3.9.0-final"
  },
  "orig_nbformat": 2,
  "kernelspec": {
   "name": "python3",
   "display_name": "Python 3.9.0 64-bit",
   "metadata": {
    "interpreter": {
     "hash": "c49414725a10925ce64f1a7c91399f6a4823416942062340df486dba231dfa6d"
    }
   }
  }
 },
 "nbformat": 4,
 "nbformat_minor": 2,
 "cells": [
  {
   "source": [
    "# Zip list"
   ],
   "cell_type": "markdown",
   "metadata": {}
  },
  {
   "cell_type": "code",
   "execution_count": 1,
   "metadata": {},
   "outputs": [],
   "source": [
    "l1 = [\"a\", 3, 7]\n",
    "l2 = [\"b\", 2, 0]\n",
    "\n",
    "l3 = list(zip(l1, l2))"
   ]
  },
  {
   "cell_type": "code",
   "execution_count": 2,
   "metadata": {},
   "outputs": [
    {
     "output_type": "execute_result",
     "data": {
      "text/plain": [
       "[('a', 'b'), (3, 2), (7, 0)]"
      ]
     },
     "metadata": {},
     "execution_count": 2
    }
   ],
   "source": [
    "l3"
   ]
  },
  {
   "cell_type": "code",
   "execution_count": 6,
   "metadata": {},
   "outputs": [
    {
     "output_type": "stream",
     "name": "stdout",
     "text": [
      "a\n2\n---------\nb\n4\n---------\nc\n6\n---------\n"
     ]
    }
   ],
   "source": [
    "l3 = [\"a\", \"b\", \"c\"]\n",
    "l4 = [2, 4, 6]\n",
    "\n",
    "for i in range(len(l3)):\n",
    "    print(l3[i])\n",
    "    print(l4[i])\n",
    "    print(\"---------\")"
   ]
  },
  {
   "cell_type": "code",
   "execution_count": 7,
   "metadata": {},
   "outputs": [
    {
     "output_type": "execute_result",
     "data": {
      "text/plain": [
       "[('a', 2), ('b', 4), ('c', 6)]"
      ]
     },
     "metadata": {},
     "execution_count": 7
    }
   ],
   "source": [
    "l5 = list(zip(l3, l4))\n",
    "l5"
   ]
  },
  {
   "cell_type": "code",
   "execution_count": 8,
   "metadata": {},
   "outputs": [
    {
     "output_type": "execute_result",
     "data": {
      "text/plain": [
       "(2, 4)"
      ]
     },
     "metadata": {},
     "execution_count": 8
    }
   ],
   "source": [
    "k = 2, 4\n",
    "k\n"
   ]
  },
  {
   "cell_type": "code",
   "execution_count": 9,
   "metadata": {},
   "outputs": [
    {
     "output_type": "stream",
     "name": "stdout",
     "text": [
      "('a', 2)\n('b', 4)\n('c', 6)\n"
     ]
    }
   ],
   "source": [
    "for elem in l5:\n",
    "    print(elem)"
   ]
  },
  {
   "cell_type": "code",
   "execution_count": 14,
   "metadata": {},
   "outputs": [
    {
     "output_type": "stream",
     "name": "stdout",
     "text": [
      "a 2\nb 4\nc 6\n"
     ]
    }
   ],
   "source": [
    "for e1, e2 in l5:\n",
    "    print(e1, e2)\n"
   ]
  },
  {
   "cell_type": "code",
   "execution_count": 36,
   "metadata": {},
   "outputs": [],
   "source": [
    "l1 = [[\"a\", \"b\"], [3, 2], (7, \"m\")]\n",
    "l2 = [(5, 7), [\"x\", 0], [\"y\", -1]]\n",
    "l3 = list(zip(l1, l2))"
   ]
  },
  {
   "cell_type": "code",
   "execution_count": 37,
   "metadata": {},
   "outputs": [
    {
     "output_type": "stream",
     "name": "stdout",
     "text": [
      "(['a', 'b'], (5, 7))\n([3, 2], ['x', 0])\n((7, 'm'), ['y', -1])\n"
     ]
    }
   ],
   "source": [
    "for elem in l3:\n",
    "    print(elem)"
   ]
  },
  {
   "cell_type": "code",
   "execution_count": 44,
   "metadata": {},
   "outputs": [
    {
     "output_type": "stream",
     "name": "stdout",
     "text": [
      "['a', 'b']\n5\n7\n[3, 2]\nx\n0\n(7, 'm')\ny\n-1\n"
     ]
    }
   ],
   "source": [
    "for e1, e2 in l3:\n",
    "    print(e1)\n",
    "    for t1 in e2:\n",
    "        print(t1)"
   ]
  },
  {
   "source": [
    "# Zip dictionaries"
   ],
   "cell_type": "markdown",
   "metadata": {}
  },
  {
   "cell_type": "code",
   "execution_count": 45,
   "metadata": {},
   "outputs": [
    {
     "output_type": "execute_result",
     "data": {
      "text/plain": [
       "{'a': 'b', 3: 2, 7: 0}"
      ]
     },
     "metadata": {},
     "execution_count": 45
    }
   ],
   "source": [
    "l1 = [\"a\", 3, 7]\n",
    "l2 = [\"b\", 2, 0]\n",
    "\n",
    "d3 = dict(zip(l1, l2))\n",
    "d3"
   ]
  },
  {
   "cell_type": "code",
   "execution_count": 47,
   "metadata": {},
   "outputs": [
    {
     "output_type": "execute_result",
     "data": {
      "text/plain": [
       "{'claveDict': [2, 8, 4]}"
      ]
     },
     "metadata": {},
     "execution_count": 47
    }
   ],
   "source": [
    "#añadir elementos a un diccionario\n",
    "d = {}\n",
    "d[\"claveDict\"] = [2, 8, 4]\n",
    "d"
   ]
  },
  {
   "cell_type": "code",
   "execution_count": 48,
   "metadata": {},
   "outputs": [],
   "source": [
    "l1 = [\"a\", 3, 7]\n",
    "l2 = [\"b\", 2, 0]\n",
    "\n",
    "d3 = dict(zip(l1, l2))\n"
   ]
  },
  {
   "source": [
    "# List Comprenhesion"
   ],
   "cell_type": "markdown",
   "metadata": {}
  },
  {
   "cell_type": "code",
   "execution_count": 59,
   "metadata": {},
   "outputs": [
    {
     "output_type": "execute_result",
     "data": {
      "text/plain": [
       "[('a', 'b', True, 200, 'a'), (3, 2, False, 300, 'b')]"
      ]
     },
     "metadata": {},
     "execution_count": 59
    }
   ],
   "source": [
    "# Zip coge el maximo de elementos posibles, no dando error.\n",
    "\n",
    "l1 = [\"a\", 3]\n",
    "l2 = [\"b\", 2]\n",
    "l3 = [True, False, None]\n",
    "l4 = {300, 200, 999999}\n",
    "s = \"abdf\"\n",
    "l5 = list(zip(l1, l2, l3, l4, s))\n",
    "l5\n"
   ]
  },
  {
   "cell_type": "code",
   "execution_count": 60,
   "metadata": {},
   "outputs": [
    {
     "output_type": "stream",
     "name": "stdout",
     "text": [
      "b\n2\n"
     ]
    }
   ],
   "source": [
    "for e1, e2, e3, e4, e5 in l5:\n",
    "    print(e2)"
   ]
  },
  {
   "cell_type": "code",
   "execution_count": 61,
   "metadata": {},
   "outputs": [
    {
     "output_type": "execute_result",
     "data": {
      "text/plain": [
       "[3, 0, 1, 2, 3, 4, 5, 6, 7, 8, 9, 10, 11, 12, 13, 14, 15, 16, 17, 18, 19, 20]"
      ]
     },
     "metadata": {},
     "execution_count": 61
    }
   ],
   "source": [
    "l = [3]\n",
    "for i in range(21):\n",
    "    l.append(i)\n",
    "\n",
    "l"
   ]
  },
  {
   "cell_type": "code",
   "execution_count": 62,
   "metadata": {},
   "outputs": [
    {
     "output_type": "execute_result",
     "data": {
      "text/plain": [
       "[0, 1, 2, 3, 4, 5, 6, 7, 8, 9, 10, 11, 12, 13, 14, 15, 16, 17, 18, 19, 20]"
      ]
     },
     "metadata": {},
     "execution_count": 62
    }
   ],
   "source": [
    "l = [i for i in range(21)]\n",
    "l"
   ]
  },
  {
   "cell_type": "code",
   "execution_count": 73,
   "metadata": {},
   "outputs": [
    {
     "output_type": "execute_result",
     "data": {
      "text/plain": [
       "{'cc': 6, 'dd': 8, 'ee': 10}"
      ]
     },
     "metadata": {},
     "execution_count": 73
    }
   ],
   "source": [
    "dict1 = {\"a\": 1, \"b\": 2, \"c\": 3, \"d\": 4, \"e\": 5}\n",
    "\n",
    "double_dict1 = {(k*2):(v*2) for (k, v) in dict1.items() if v > 2}\n",
    "double_dict1"
   ]
  },
  {
   "cell_type": "code",
   "execution_count": 65,
   "metadata": {},
   "outputs": [
    {
     "output_type": "stream",
     "name": "stdout",
     "text": [
      "clave a\nValor 1\n------------\nclave b\nValor 2\n------------\nclave c\nValor 3\n------------\nclave d\nValor 4\n------------\nclave e\nValor 5\n------------\n"
     ]
    }
   ],
   "source": [
    "dict1 = {\"a\": 1, \"b\": 2, \"c\": 3, \"d\": 4, \"e\": 5}\n",
    "\n",
    "for (k, v) in dict1.items():\n",
    "    print(\"clave\", k)\n",
    "    print(\"Valor\", v)\n",
    "    print(\"------------\")"
   ]
  },
  {
   "source": [
    "# recursividad"
   ],
   "cell_type": "markdown",
   "metadata": {}
  },
  {
   "cell_type": "code",
   "execution_count": 75,
   "metadata": {},
   "outputs": [
    {
     "output_type": "stream",
     "name": "stdout",
     "text": [
      "hola\n"
     ]
    }
   ],
   "source": [
    "def p():\n",
    "    print(\"hola\")\n",
    "p()"
   ]
  },
  {
   "cell_type": "code",
   "execution_count": 83,
   "metadata": {},
   "outputs": [
    {
     "output_type": "stream",
     "name": "stdout",
     "text": [
      "Valor de cont: 2\nValor de cont: 1\nCASO BASE: 0\n0\n"
     ]
    }
   ],
   "source": [
    "# Caso base\n",
    "\n",
    "\n",
    "def f1(cont):\n",
    "    if cont == 0:\n",
    "        print(\"CASO BASE:\", cont)\n",
    "        return cont\n",
    "    else:\n",
    "        print(\"Valor de cont:\", cont) \n",
    "        f1(cont=cont-1)\n",
    "\n",
    "\n",
    "r = f1(cont=2)\n",
    "print(r)\n"
   ]
  },
  {
   "source": [
    "# Pass"
   ],
   "cell_type": "markdown",
   "metadata": {}
  },
  {
   "cell_type": "code",
   "execution_count": 87,
   "metadata": {},
   "outputs": [
    {
     "output_type": "execute_result",
     "data": {
      "text/plain": [
       "[]"
      ]
     },
     "metadata": {},
     "execution_count": 87
    }
   ],
   "source": [
    "def get_data():\n",
    "    \"\"\" aqui quiero saber los datos que recibo TODO(#fulanito)\"\"\"\n",
    "    data = []\n",
    "    return data\n",
    "\n",
    "\n",
    "def clean_data():\n",
    "    pass\n",
    "# Esto sirve para que siga y podamos ejecutar el codigo para trabajar sobre el\n",
    "\n",
    "def draw_data():\n",
    "    pass\n",
    "\n",
    "get_data()"
   ]
  },
  {
   "cell_type": "code",
   "execution_count": null,
   "metadata": {},
   "outputs": [],
   "source": []
  }
 ]
}