{
 "metadata": {
  "language_info": {
   "codemirror_mode": {
    "name": "ipython",
    "version": 3
   },
   "file_extension": ".py",
   "mimetype": "text/x-python",
   "name": "python",
   "nbconvert_exporter": "python",
   "pygments_lexer": "ipython3",
   "version": "3.9.0-final"
  },
  "orig_nbformat": 2,
  "kernelspec": {
   "name": "python3",
   "display_name": "Python 3.9.0 64-bit",
   "metadata": {
    "interpreter": {
     "hash": "c49414725a10925ce64f1a7c91399f6a4823416942062340df486dba231dfa6d"
    }
   }
  }
 },
 "nbformat": 4,
 "nbformat_minor": 2,
 "cells": [
  {
   "cell_type": "code",
   "execution_count": 4,
   "metadata": {},
   "outputs": [
    {
     "output_type": "execute_result",
     "data": {
      "text/plain": [
       "[2, 4, 6, 'a', 8]"
      ]
     },
     "metadata": {},
     "execution_count": 4
    }
   ],
   "source": [
    "# POP\n",
    "lista = [2, 4, 6, \"a\", 6, 8]\n",
    "lista.pop(4)\n",
    "lista"
   ]
  },
  {
   "cell_type": "code",
   "execution_count": 7,
   "metadata": {},
   "outputs": [
    {
     "output_type": "stream",
     "name": "stdout",
     "text": [
      "None\n"
     ]
    }
   ],
   "source": [
    "lista = [2, 4, 6, \"a\", 6, 8]\n",
    "\n",
    "x = lista.remove(6)\n",
    "print(x)"
   ]
  },
  {
   "cell_type": "code",
   "execution_count": 12,
   "metadata": {},
   "outputs": [
    {
     "output_type": "stream",
     "name": "stdout",
     "text": [
      "8\n"
     ]
    }
   ],
   "source": [
    "def remove2(a):\n",
    "    x = a + 2\n",
    "    return x\n",
    "\n",
    "y = remove2(6)\n",
    "print(y)"
   ]
  },
  {
   "cell_type": "code",
   "execution_count": null,
   "metadata": {},
   "outputs": [],
   "source": [
    "def remove2(a):\n",
    "    x = a + 2\n",
    "    return x\n",
    "\n",
    "y = remove2(6)\n",
    "print(y)"
   ]
  },
  {
   "source": [
    "# Diccionarios"
   ],
   "cell_type": "markdown",
   "metadata": {}
  },
  {
   "cell_type": "code",
   "execution_count": 15,
   "metadata": {},
   "outputs": [
    {
     "output_type": "stream",
     "name": "stdout",
     "text": [
      "valor\n"
     ]
    }
   ],
   "source": [
    "hola = \"saludo internacional\"\n",
    "\n",
    "#clave/key = valor\n",
    "\n",
    "diccionario = {\"key\": \"valor\"}\n",
    " # Nunca repetir \"keys\" porque se feneran unicas\n",
    "\n",
    "print(diccionario[\"key\"])"
   ]
  },
  {
   "cell_type": "code",
   "execution_count": 16,
   "metadata": {},
   "outputs": [
    {
     "output_type": "execute_result",
     "data": {
      "text/plain": [
       "{2: 'este es el valor'}"
      ]
     },
     "metadata": {},
     "execution_count": 16
    }
   ],
   "source": [
    "diccionario2 = {2:\"este es el valor\"}\n",
    "diccionario2 "
   ]
  },
  {
   "cell_type": "code",
   "execution_count": 17,
   "metadata": {},
   "outputs": [
    {
     "output_type": "execute_result",
     "data": {
      "text/plain": [
       "['password', 'C/ random', 626461175486]"
      ]
     },
     "metadata": {},
     "execution_count": 17
    }
   ],
   "source": [
    "diccionario3 = {\"email\":[\"password\", \"C/ random\", 626461175486]}\n",
    "diccionario3[\"email\"]"
   ]
  },
  {
   "cell_type": "code",
   "execution_count": 26,
   "metadata": {},
   "outputs": [
    {
     "output_type": "execute_result",
     "data": {
      "text/plain": [
       "[['Roberto', 'molleda', '626461150', 'Mijas']]"
      ]
     },
     "metadata": {},
     "execution_count": 26
    }
   ],
   "source": [
    "input1 = input(\"Nombre\")\n",
    "input2 = input(\"apellido\")\n",
    "input3 = input(\"telefono\")\n",
    "input4 = input(\"Calle\")\n",
    "\n",
    "\n",
    "\n",
    "\n",
    "input5 = [input1, input2, input3, input4]\n",
    "\n",
    "diccionarioZ = {input1: [input5]}\n",
    "diccionarioZ[input1]"
   ]
  },
  {
   "cell_type": "code",
   "execution_count": 28,
   "metadata": {},
   "outputs": [
    {
     "output_type": "execute_result",
     "data": {
      "text/plain": [
       "['Roberto']"
      ]
     },
     "metadata": {},
     "execution_count": 28
    }
   ],
   "source": [
    "list(diccionarioZ.keys())"
   ]
  },
  {
   "cell_type": "code",
   "execution_count": 34,
   "metadata": {},
   "outputs": [
    {
     "output_type": "stream",
     "name": "stdout",
     "text": [
      "[['Roberto', 'molleda', '626461150', 'Mijas']]\n"
     ]
    }
   ],
   "source": [
    "(diccionarioZ.keys())\n",
    "\n",
    "for value in diccionarioZ.values():\n",
    "    print(value)"
   ]
  },
  {
   "cell_type": "code",
   "execution_count": 39,
   "metadata": {},
   "outputs": [
    {
     "output_type": "stream",
     "name": "stdout",
     "text": [
      "Roberto ------ [['Roberto', 'molleda', '626461150', 'Mijas']]\n"
     ]
    }
   ],
   "source": [
    "for key, value in diccionarioZ.items():\n",
    "    print(key, \"------\", value)"
   ]
  },
  {
   "cell_type": "code",
   "execution_count": null,
   "metadata": {},
   "outputs": [],
   "source": []
  },
  {
   "cell_type": "code",
   "execution_count": 45,
   "metadata": {},
   "outputs": [
    {
     "output_type": "execute_result",
     "data": {
      "text/plain": [
       "['name', 'age', {'sex': 'female'}]"
      ]
     },
     "metadata": {},
     "execution_count": 45
    }
   ],
   "source": [
    "dict1 = {\"name\": \"zara\", \"age\": 7}\n",
    "dict2 = {\"sex\": \"female\"}\n",
    "dict1 = list(dict1)\n",
    "dict1.append(dict2)\n",
    "dict1\n",
    "\n",
    "# usar siempre update para sumar o merchear diccionarios"
   ]
  },
  {
   "cell_type": "code",
   "execution_count": null,
   "metadata": {},
   "outputs": [],
   "source": []
  },
  {
   "cell_type": "code",
   "execution_count": null,
   "metadata": {},
   "outputs": [],
   "source": []
  }
 ]
}